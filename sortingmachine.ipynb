{
 "cells": [
  {
   "cell_type": "code",
   "execution_count": null,
   "metadata": {
    "colab": {},
    "colab_type": "code",
    "id": "Q2xHL521wVg7",
    "scrolled": true
   },
   "outputs": [],
   "source": [
    "from google.colab import files\n",
    "uploaded = files.upload()"
   ]
  },
  {
   "cell_type": "code",
   "execution_count": null,
   "metadata": {
    "colab": {},
    "colab_type": "code",
    "id": "pdkuPdHiwwcx"
   },
   "outputs": [],
   "source": [
    "import cv2\n",
    "import matplotlib.pyplot as plt\n",
    "import numpy as np"
   ]
  },
  {
   "cell_type": "code",
   "execution_count": null,
   "metadata": {
    "colab": {},
    "colab_type": "code",
    "id": "hF1OBpQCxAm6"
   },
   "outputs": [],
   "source": [
    "image = cv2.imread('sample.jpeg')\n",
    "plt.imshow(cv2.cvtColor(image, cv2.COLOR_BGR2RGB))\n",
    "plt.show()"
   ]
  },
  {
   "cell_type": "code",
   "execution_count": null,
   "metadata": {
    "colab": {},
    "colab_type": "code",
    "id": "b1UlUj20z66D"
   },
   "outputs": [],
   "source": [
    "image_gau = cv2.GaussianBlur(image, (11, 11), 0)\n",
    "plt.imshow(cv2.cvtColor(image_gau, cv2.COLOR_BGR2RGB))\n",
    "plt.show()"
   ]
  },
  {
   "cell_type": "code",
   "execution_count": null,
   "metadata": {
    "colab": {},
    "colab_type": "code",
    "id": "YpThah49xFfi"
   },
   "outputs": [],
   "source": [
    "image_gray = cv2.cvtColor(image_gau, cv2.COLOR_BGR2GRAY)\n",
    "plt.imshow(cv2.cvtColor(image_gray, cv2.COLOR_BGR2RGB))\n",
    "plt.show()"
   ]
  },
  {
   "cell_type": "code",
   "execution_count": null,
   "metadata": {
    "colab": {},
    "colab_type": "code",
    "id": "L0PNQbD-yjyK"
   },
   "outputs": [],
   "source": [
    "ret, thresh = cv2.threshold(image_gray, 180, 255, 0)\n",
    "thresh = cv2.bitwise_not(thresh)\n",
    "plt.imshow(cv2.cvtColor(thresh, cv2.COLOR_BGR2RGB))\n",
    "plt.show()"
   ]
  },
  {
   "cell_type": "code",
   "execution_count": null,
   "metadata": {
    "colab": {},
    "colab_type": "code",
    "id": "ADlRFh1iz1IM"
   },
   "outputs": [],
   "source": [
    "contours = cv2.findContours(thresh, cv2.RETR_TREE, cv2.CHAIN_APPROX_SIMPLE)[0]\n",
    "image_contour = cv2.drawContours(image, contours, -1, (0, 0, 255), 4)\n",
    "plt.imshow(cv2.cvtColor(image_contour, cv2.COLOR_BGR2RGB))\n",
    "plt.show()"
   ]
  },
  {
   "cell_type": "code",
   "execution_count": null,
   "metadata": {
    "colab": {},
    "colab_type": "code",
    "id": "wU5Pdlgc_-xQ"
   },
   "outputs": [],
   "source": [
    "contour = contours[0]\n",
    "x, y, w, h = cv2.boundingRect(contour)\n",
    "image = cv2.rectangle(image, (x, y), (x + w, y + h), (255, 0, 0), 3)\n",
    "plt.imshow(cv2.cvtColor(image, cv2.COLOR_BGR2RGB))\n",
    "plt.show()"
   ]
  }
 ],
 "metadata": {
  "colab": {
   "authorship_tag": "ABX9TyN30SlG57HfpGyIRSJI9M0c",
   "collapsed_sections": [],
   "name": "sortingmachine.ipynb",
   "private_outputs": true,
   "provenance": []
  },
  "kernelspec": {
   "display_name": "Python 3",
   "language": "python",
   "name": "python3"
  },
  "language_info": {
   "codemirror_mode": {
    "name": "ipython",
    "version": 3
   },
   "file_extension": ".py",
   "mimetype": "text/x-python",
   "name": "python",
   "nbconvert_exporter": "python",
   "pygments_lexer": "ipython3",
   "version": "3.8.4"
  }
 },
 "nbformat": 4,
 "nbformat_minor": 1
}
